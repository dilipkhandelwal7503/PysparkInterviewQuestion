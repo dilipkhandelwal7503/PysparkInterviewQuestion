{
 "cells": [
  {
   "cell_type": "code",
   "execution_count": 0,
   "metadata": {
    "application/vnd.databricks.v1+cell": {
     "cellMetadata": {},
     "inputWidgets": {},
     "nuid": "f40c7243-98ce-4fe1-ad46-afc3050b6474",
     "showTitle": false,
     "title": ""
    }
   },
   "outputs": [],
   "source": [
    "# Challenge: Given a dataset with columns PERSON, TYPE, and AGE,\n",
    "# create an output where the oldest adult is paired with the youngest child, producing pairs of ADULT and CHILD while ensuring appropriate data matching."
   ]
  },
  {
   "cell_type": "code",
   "execution_count": 0,
   "metadata": {
    "application/vnd.databricks.v1+cell": {
     "cellMetadata": {
      "byteLimit": 2048000,
      "rowLimit": 10000
     },
     "inputWidgets": {},
     "nuid": "e0e6cf57-03ba-406d-b9ef-8bb356085ae6",
     "showTitle": false,
     "title": ""
    }
   },
   "outputs": [],
   "source": [
    "from pyspark.sql import SparkSession\n",
    "from pyspark.sql.functions import col, row_number, desc, asc\n",
    "from pyspark.sql.window import Window\n",
    "\n",
    "\n",
    "\n",
    "class AdultChildPair:\n",
    "  def createData(self):\n",
    "    data = [\n",
    "      ('A1', 'ADULT', 54),\n",
    "      ('A2', 'ADULT', 53),\n",
    "      ('A3', 'ADULT', 52),\n",
    "      ('A4', 'ADULT', 58),\n",
    "      ('A5', 'ADULT', 54),\n",
    "      ('C1', 'CHILD', 20),\n",
    "      ('C2', 'CHILD', 19),\n",
    "      ('C3', 'CHILD', 22),\n",
    "      ('C4', 'CHILD', 15)\n",
    "    ]\n",
    "    columns = ['person', 'type', 'age']\n",
    "    return spark.createDataFrame(data, columns)"
   ]
  },
  {
   "cell_type": "code",
   "execution_count": 0,
   "metadata": {
    "application/vnd.databricks.v1+cell": {
     "cellMetadata": {
      "byteLimit": 2048000,
      "rowLimit": 10000
     },
     "inputWidgets": {},
     "nuid": "5c3646f3-507b-4201-88f5-c685d261c30a",
     "showTitle": false,
     "title": ""
    }
   },
   "outputs": [],
   "source": [
    "ob = AdultChildPair()\n",
    "inputDf = ob.createData()"
   ]
  },
  {
   "cell_type": "code",
   "execution_count": 0,
   "metadata": {
    "application/vnd.databricks.v1+cell": {
     "cellMetadata": {
      "byteLimit": 2048000,
      "rowLimit": 10000
     },
     "inputWidgets": {},
     "nuid": "6e5eb108-28a9-4bf2-be4b-d0fd94f6869c",
     "showTitle": false,
     "title": ""
    }
   },
   "outputs": [
    {
     "output_type": "display_data",
     "data": {
      "text/html": [
       "<style scoped>\n",
       "  .table-result-container {\n",
       "    max-height: 300px;\n",
       "    overflow: auto;\n",
       "  }\n",
       "  table, th, td {\n",
       "    border: 1px solid black;\n",
       "    border-collapse: collapse;\n",
       "  }\n",
       "  th, td {\n",
       "    padding: 5px;\n",
       "  }\n",
       "  th {\n",
       "    text-align: left;\n",
       "  }\n",
       "</style><div class='table-result-container'><table class='table-result'><thead style='background-color: white'><tr><th>person</th><th>type</th><th>age</th></tr></thead><tbody><tr><td>A1</td><td>ADULT</td><td>54</td></tr><tr><td>A2</td><td>ADULT</td><td>53</td></tr><tr><td>A3</td><td>ADULT</td><td>52</td></tr><tr><td>A4</td><td>ADULT</td><td>58</td></tr><tr><td>A5</td><td>ADULT</td><td>54</td></tr><tr><td>C1</td><td>CHILD</td><td>20</td></tr><tr><td>C2</td><td>CHILD</td><td>19</td></tr><tr><td>C3</td><td>CHILD</td><td>22</td></tr><tr><td>C4</td><td>CHILD</td><td>15</td></tr></tbody></table></div>"
      ]
     },
     "metadata": {
      "application/vnd.databricks.v1+output": {
       "addedWidgets": {},
       "aggData": [],
       "aggError": "",
       "aggOverflow": false,
       "aggSchema": [],
       "aggSeriesLimitReached": false,
       "aggType": "",
       "arguments": {},
       "columnCustomDisplayInfos": {},
       "data": [
        [
         "A1",
         "ADULT",
         54
        ],
        [
         "A2",
         "ADULT",
         53
        ],
        [
         "A3",
         "ADULT",
         52
        ],
        [
         "A4",
         "ADULT",
         58
        ],
        [
         "A5",
         "ADULT",
         54
        ],
        [
         "C1",
         "CHILD",
         20
        ],
        [
         "C2",
         "CHILD",
         19
        ],
        [
         "C3",
         "CHILD",
         22
        ],
        [
         "C4",
         "CHILD",
         15
        ]
       ],
       "datasetInfos": [],
       "dbfsResultPath": null,
       "isJsonSchema": true,
       "metadata": {},
       "overflow": false,
       "plotOptions": {
        "customPlotOptions": {},
        "displayType": "table",
        "pivotAggregation": null,
        "pivotColumns": null,
        "xColumns": null,
        "yColumns": null
       },
       "removedWidgets": [],
       "schema": [
        {
         "metadata": "{}",
         "name": "person",
         "type": "\"string\""
        },
        {
         "metadata": "{}",
         "name": "type",
         "type": "\"string\""
        },
        {
         "metadata": "{}",
         "name": "age",
         "type": "\"long\""
        }
       ],
       "type": "table"
      }
     },
     "output_type": "display_data"
    }
   ],
   "source": [
    "display(inputDf)"
   ]
  },
  {
   "cell_type": "code",
   "execution_count": 0,
   "metadata": {
    "application/vnd.databricks.v1+cell": {
     "cellMetadata": {
      "byteLimit": 2048000,
      "rowLimit": 10000
     },
     "inputWidgets": {},
     "nuid": "31efa59d-dd9a-44f7-a550-e3acfa595109",
     "showTitle": false,
     "title": ""
    }
   },
   "outputs": [],
   "source": [
    "# Algo :\n",
    "#     1. i will convert into two dataframe one contain adult data and another contain child data\n",
    "#     2. Adult df i put desc and child data i will put asc\n",
    "#     3. join based on rank and will correct output\n"
   ]
  },
  {
   "cell_type": "code",
   "execution_count": 0,
   "metadata": {
    "application/vnd.databricks.v1+cell": {
     "cellMetadata": {
      "byteLimit": 2048000,
      "rowLimit": 10000
     },
     "inputWidgets": {},
     "nuid": "f5f9a29b-2623-420c-970a-f81aad9e8c33",
     "showTitle": false,
     "title": ""
    }
   },
   "outputs": [
    {
     "output_type": "display_data",
     "data": {
      "text/html": [
       "<style scoped>\n",
       "  .table-result-container {\n",
       "    max-height: 300px;\n",
       "    overflow: auto;\n",
       "  }\n",
       "  table, th, td {\n",
       "    border: 1px solid black;\n",
       "    border-collapse: collapse;\n",
       "  }\n",
       "  th, td {\n",
       "    padding: 5px;\n",
       "  }\n",
       "  th {\n",
       "    text-align: left;\n",
       "  }\n",
       "</style><div class='table-result-container'><table class='table-result'><thead style='background-color: white'><tr><th>person</th><th>type</th><th>age</th><th>rank</th></tr></thead><tbody><tr><td>C4</td><td>CHILD</td><td>15</td><td>1</td></tr><tr><td>C2</td><td>CHILD</td><td>19</td><td>2</td></tr><tr><td>C1</td><td>CHILD</td><td>20</td><td>3</td></tr><tr><td>C3</td><td>CHILD</td><td>22</td><td>4</td></tr></tbody></table></div>"
      ]
     },
     "metadata": {
      "application/vnd.databricks.v1+output": {
       "addedWidgets": {},
       "aggData": [],
       "aggError": "",
       "aggOverflow": false,
       "aggSchema": [],
       "aggSeriesLimitReached": false,
       "aggType": "",
       "arguments": {},
       "columnCustomDisplayInfos": {},
       "data": [
        [
         "C4",
         "CHILD",
         15,
         1
        ],
        [
         "C2",
         "CHILD",
         19,
         2
        ],
        [
         "C1",
         "CHILD",
         20,
         3
        ],
        [
         "C3",
         "CHILD",
         22,
         4
        ]
       ],
       "datasetInfos": [],
       "dbfsResultPath": null,
       "isJsonSchema": true,
       "metadata": {},
       "overflow": false,
       "plotOptions": {
        "customPlotOptions": {},
        "displayType": "table",
        "pivotAggregation": null,
        "pivotColumns": null,
        "xColumns": null,
        "yColumns": null
       },
       "removedWidgets": [],
       "schema": [
        {
         "metadata": "{}",
         "name": "person",
         "type": "\"string\""
        },
        {
         "metadata": "{}",
         "name": "type",
         "type": "\"string\""
        },
        {
         "metadata": "{}",
         "name": "age",
         "type": "\"long\""
        },
        {
         "metadata": "{}",
         "name": "rank",
         "type": "\"integer\""
        }
       ],
       "type": "table"
      }
     },
     "output_type": "display_data"
    }
   ],
   "source": [
    "\n",
    "ChildDf = inputDf.filter(col(\"type\").isin(\"CHILD\"))\n",
    "window = Window.orderBy(asc('age')) \n",
    "RankChildDf = ChildDf.withColumn(\"rank\",row_number().over(window))\n",
    "display(RankChildDf)"
   ]
  },
  {
   "cell_type": "code",
   "execution_count": 0,
   "metadata": {
    "application/vnd.databricks.v1+cell": {
     "cellMetadata": {
      "byteLimit": 2048000,
      "rowLimit": 10000
     },
     "inputWidgets": {},
     "nuid": "89ff9032-9789-428b-aae0-ba521519dc2d",
     "showTitle": false,
     "title": ""
    }
   },
   "outputs": [
    {
     "output_type": "display_data",
     "data": {
      "text/html": [
       "<style scoped>\n",
       "  .table-result-container {\n",
       "    max-height: 300px;\n",
       "    overflow: auto;\n",
       "  }\n",
       "  table, th, td {\n",
       "    border: 1px solid black;\n",
       "    border-collapse: collapse;\n",
       "  }\n",
       "  th, td {\n",
       "    padding: 5px;\n",
       "  }\n",
       "  th {\n",
       "    text-align: left;\n",
       "  }\n",
       "</style><div class='table-result-container'><table class='table-result'><thead style='background-color: white'><tr><th>person</th><th>type</th><th>age</th><th>rank</th></tr></thead><tbody><tr><td>A4</td><td>ADULT</td><td>58</td><td>1</td></tr><tr><td>A1</td><td>ADULT</td><td>54</td><td>2</td></tr><tr><td>A5</td><td>ADULT</td><td>54</td><td>3</td></tr><tr><td>A2</td><td>ADULT</td><td>53</td><td>4</td></tr><tr><td>A3</td><td>ADULT</td><td>52</td><td>5</td></tr></tbody></table></div>"
      ]
     },
     "metadata": {
      "application/vnd.databricks.v1+output": {
       "addedWidgets": {},
       "aggData": [],
       "aggError": "",
       "aggOverflow": false,
       "aggSchema": [],
       "aggSeriesLimitReached": false,
       "aggType": "",
       "arguments": {},
       "columnCustomDisplayInfos": {},
       "data": [
        [
         "A4",
         "ADULT",
         58,
         1
        ],
        [
         "A1",
         "ADULT",
         54,
         2
        ],
        [
         "A5",
         "ADULT",
         54,
         3
        ],
        [
         "A2",
         "ADULT",
         53,
         4
        ],
        [
         "A3",
         "ADULT",
         52,
         5
        ]
       ],
       "datasetInfos": [],
       "dbfsResultPath": null,
       "isJsonSchema": true,
       "metadata": {},
       "overflow": false,
       "plotOptions": {
        "customPlotOptions": {},
        "displayType": "table",
        "pivotAggregation": null,
        "pivotColumns": null,
        "xColumns": null,
        "yColumns": null
       },
       "removedWidgets": [],
       "schema": [
        {
         "metadata": "{}",
         "name": "person",
         "type": "\"string\""
        },
        {
         "metadata": "{}",
         "name": "type",
         "type": "\"string\""
        },
        {
         "metadata": "{}",
         "name": "age",
         "type": "\"long\""
        },
        {
         "metadata": "{}",
         "name": "rank",
         "type": "\"integer\""
        }
       ],
       "type": "table"
      }
     },
     "output_type": "display_data"
    }
   ],
   "source": [
    "AdultDf = inputDf.filter(col(\"type\").isin(\"ADULT\"))\n",
    "window = Window.orderBy(desc('age')) \n",
    "RankAdultDf = AdultDf.withColumn(\"rank\",row_number().over(window))\n",
    "display(RankAdultDf)"
   ]
  },
  {
   "cell_type": "code",
   "execution_count": 0,
   "metadata": {
    "application/vnd.databricks.v1+cell": {
     "cellMetadata": {
      "byteLimit": 2048000,
      "rowLimit": 10000
     },
     "inputWidgets": {},
     "nuid": "ed8c6b45-f1d1-40f7-bbea-276a430767cd",
     "showTitle": false,
     "title": ""
    }
   },
   "outputs": [
    {
     "output_type": "display_data",
     "data": {
      "text/html": [
       "<style scoped>\n",
       "  .table-result-container {\n",
       "    max-height: 300px;\n",
       "    overflow: auto;\n",
       "  }\n",
       "  table, th, td {\n",
       "    border: 1px solid black;\n",
       "    border-collapse: collapse;\n",
       "  }\n",
       "  th, td {\n",
       "    padding: 5px;\n",
       "  }\n",
       "  th {\n",
       "    text-align: left;\n",
       "  }\n",
       "</style><div class='table-result-container'><table class='table-result'><thead style='background-color: white'><tr><th>rank</th><th>person</th><th>type</th><th>age</th><th>person</th><th>type</th><th>age</th></tr></thead><tbody><tr><td>1</td><td>A4</td><td>ADULT</td><td>58</td><td>C4</td><td>CHILD</td><td>15</td></tr><tr><td>2</td><td>A1</td><td>ADULT</td><td>54</td><td>C2</td><td>CHILD</td><td>19</td></tr><tr><td>3</td><td>A5</td><td>ADULT</td><td>54</td><td>C1</td><td>CHILD</td><td>20</td></tr><tr><td>4</td><td>A2</td><td>ADULT</td><td>53</td><td>C3</td><td>CHILD</td><td>22</td></tr><tr><td>5</td><td>A3</td><td>ADULT</td><td>52</td><td>null</td><td>null</td><td>null</td></tr></tbody></table></div>"
      ]
     },
     "metadata": {
      "application/vnd.databricks.v1+output": {
       "addedWidgets": {},
       "aggData": [],
       "aggError": "",
       "aggOverflow": false,
       "aggSchema": [],
       "aggSeriesLimitReached": false,
       "aggType": "",
       "arguments": {},
       "columnCustomDisplayInfos": {},
       "data": [
        [
         1,
         "A4",
         "ADULT",
         58,
         "C4",
         "CHILD",
         15
        ],
        [
         2,
         "A1",
         "ADULT",
         54,
         "C2",
         "CHILD",
         19
        ],
        [
         3,
         "A5",
         "ADULT",
         54,
         "C1",
         "CHILD",
         20
        ],
        [
         4,
         "A2",
         "ADULT",
         53,
         "C3",
         "CHILD",
         22
        ],
        [
         5,
         "A3",
         "ADULT",
         52,
         null,
         null,
         null
        ]
       ],
       "datasetInfos": [],
       "dbfsResultPath": null,
       "isJsonSchema": true,
       "metadata": {},
       "overflow": false,
       "plotOptions": {
        "customPlotOptions": {},
        "displayType": "table",
        "pivotAggregation": null,
        "pivotColumns": null,
        "xColumns": null,
        "yColumns": null
       },
       "removedWidgets": [],
       "schema": [
        {
         "metadata": "{}",
         "name": "rank",
         "type": "\"integer\""
        },
        {
         "metadata": "{}",
         "name": "person",
         "type": "\"string\""
        },
        {
         "metadata": "{}",
         "name": "type",
         "type": "\"string\""
        },
        {
         "metadata": "{}",
         "name": "age",
         "type": "\"long\""
        },
        {
         "metadata": "{}",
         "name": "person",
         "type": "\"string\""
        },
        {
         "metadata": "{}",
         "name": "type",
         "type": "\"string\""
        },
        {
         "metadata": "{}",
         "name": "age",
         "type": "\"long\""
        }
       ],
       "type": "table"
      }
     },
     "output_type": "display_data"
    }
   ],
   "source": [
    "finalResultOutput = RankAdultDf.alias('A').join(RankChildDf.alias('C'),\"rank\",how = 'full')\n",
    "display(finalResultOutput)"
   ]
  },
  {
   "cell_type": "code",
   "execution_count": 0,
   "metadata": {
    "application/vnd.databricks.v1+cell": {
     "cellMetadata": {
      "byteLimit": 2048000,
      "rowLimit": 10000
     },
     "inputWidgets": {},
     "nuid": "2211d972-279f-4a80-990c-084b3d4a874a",
     "showTitle": false,
     "title": ""
    }
   },
   "outputs": [
    {
     "output_type": "display_data",
     "data": {
      "text/html": [
       "<style scoped>\n",
       "  .table-result-container {\n",
       "    max-height: 300px;\n",
       "    overflow: auto;\n",
       "  }\n",
       "  table, th, td {\n",
       "    border: 1px solid black;\n",
       "    border-collapse: collapse;\n",
       "  }\n",
       "  th, td {\n",
       "    padding: 5px;\n",
       "  }\n",
       "  th {\n",
       "    text-align: left;\n",
       "  }\n",
       "</style><div class='table-result-container'><table class='table-result'><thead style='background-color: white'><tr><th>person</th><th>person</th></tr></thead><tbody><tr><td>A4</td><td>C4</td></tr><tr><td>A1</td><td>C2</td></tr><tr><td>A5</td><td>C1</td></tr><tr><td>A2</td><td>C3</td></tr><tr><td>A3</td><td>null</td></tr></tbody></table></div>"
      ]
     },
     "metadata": {
      "application/vnd.databricks.v1+output": {
       "addedWidgets": {},
       "aggData": [],
       "aggError": "",
       "aggOverflow": false,
       "aggSchema": [],
       "aggSeriesLimitReached": false,
       "aggType": "",
       "arguments": {},
       "columnCustomDisplayInfos": {},
       "data": [
        [
         "A4",
         "C4"
        ],
        [
         "A1",
         "C2"
        ],
        [
         "A5",
         "C1"
        ],
        [
         "A2",
         "C3"
        ],
        [
         "A3",
         null
        ]
       ],
       "datasetInfos": [],
       "dbfsResultPath": null,
       "isJsonSchema": true,
       "metadata": {},
       "overflow": false,
       "plotOptions": {
        "customPlotOptions": {},
        "displayType": "table",
        "pivotAggregation": null,
        "pivotColumns": null,
        "xColumns": null,
        "yColumns": null
       },
       "removedWidgets": [],
       "schema": [
        {
         "metadata": "{}",
         "name": "person",
         "type": "\"string\""
        },
        {
         "metadata": "{}",
         "name": "person",
         "type": "\"string\""
        }
       ],
       "type": "table"
      }
     },
     "output_type": "display_data"
    }
   ],
   "source": [
    "display(finalResultOutput.selectExpr(\"A.person\",\"C.person\"))"
   ]
  }
 ],
 "metadata": {
  "application/vnd.databricks.v1+notebook": {
   "dashboards": [],
   "language": "python",
   "notebookMetadata": {
    "pythonIndentUnit": 4
   },
   "notebookName": "Pyspark scenario Interview Question",
   "widgets": {}
  }
 },
 "nbformat": 4,
 "nbformat_minor": 0
}
